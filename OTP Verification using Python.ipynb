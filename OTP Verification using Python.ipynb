{
 "cells": [
  {
   "cell_type": "code",
   "execution_count": null,
   "id": "d07e6ade-49a3-436c-9753-82479ce12c53",
   "metadata": {
    "tags": []
   },
   "outputs": [],
   "source": [
    "import random"
   ]
  },
  {
   "cell_type": "code",
   "execution_count": 2,
   "id": "bbaf3ff0-dd90-46ec-899e-4a38699da2ce",
   "metadata": {
    "tags": []
   },
   "outputs": [],
   "source": [
    "def generate_otp():\n",
    "    otp = random.randint(100000,999999)\n",
    "    return otp\n",
    "\n",
    "# def send_otp(otp):\n",
    "#     print(f\"The OTP {otp} is sent to your email.\")\n",
    "    \n",
    "def prompt_for_otp():\n",
    "    user_otp = input(\"Please enter the OTP you received: \")\n",
    "    return user_otp\n",
    "\n",
    "def verify_otp(generated_otp, user_otp):\n",
    "    return str(generated_otp) == user_otp\n"
   ]
  },
  {
   "cell_type": "code",
   "execution_count": 3,
   "id": "35a15da3-0897-43f1-953a-87f1d0fabf29",
   "metadata": {
    "tags": []
   },
   "outputs": [],
   "source": [
    "import smtplib\n",
    "from email.mime.text import MIMEText\n",
    "from email.mime.multipart import MIMEMultipart\n",
    "\n",
    "def send_otp(otp, recipient_email):\n",
    "    sender_email = \"venkatesh98kay@gmail.com\"\n",
    "    sender_password = \"gbkq uzhe qvpi crwy\"\n",
    "\n",
    "    message = MIMEMultipart()\n",
    "    message[\"From\"] = sender_email\n",
    "    message[\"To\"] = recipient_email\n",
    "    message[\"Subject\"] = \"Your OTP\"\n",
    "    body = f\"Your OTP is: {otp}\"\n",
    "    message.attach(MIMEText(body, 'plain'))\n",
    "\n",
    "    server = smtplib.SMTP_SSL('smtp.gmail.com', 465)\n",
    "    server.login(sender_email, sender_password)\n",
    "    text = message.as_string()\n",
    "    server.sendmail(sender_email, recipient_email, text)\n",
    "    server.quit()\n",
    "\n",
    "    print(f\"OTP sent to {recipient_email}.\")\n"
   ]
  },
  {
   "cell_type": "code",
   "execution_count": null,
   "id": "c0493387-af32-4857-8c34-5762bcc6d81f",
   "metadata": {
    "tags": []
   },
   "outputs": [],
   "source": [
    "import tkinter as tk\n",
    "from tkinter import simpledialog, messagebox\n",
    "\n",
    "def gui_run_otp_system():\n",
    "    user_email = input(\"Enter your email address: \")\n",
    "    otp = generate_otp()\n",
    "    send_otp(otp, user_email)\n",
    "\n",
    "    root = tk.Tk()\n",
    "    root.withdraw()  \n",
    "\n",
    "    for _ in range(3):\n",
    "        user_otp = simpledialog.askstring(\"OTP Verification\", \"Enter the OTP:\")\n",
    "        if user_otp and verify_otp(otp, user_otp):\n",
    "            messagebox.showinfo(\"Result\", \"Access Granted.\")\n",
    "            break\n",
    "        else:\n",
    "            messagebox.showinfo(\"Result\", \"Invalid OTP. Please try again.\")\n",
    "    else:\n",
    "        messagebox.showinfo(\"Result\", \"Access Denied.\")\n",
    "    root.destroy()\n",
    "\n",
    "gui_run_otp_system()\n"
   ]
  },
  {
   "cell_type": "code",
   "execution_count": 5,
   "id": "6388ff37-3958-480d-ab6c-b412df0d35ce",
   "metadata": {},
   "outputs": [],
   "source": [
    "#def run_otp_system():\n",
    "#     user_email = input(\"Enter your email address: \")\n",
    "#     otp = generate_otp()\n",
    "#     send_otp(otp, user_email)\n",
    "    \n",
    "#     for i in range(3):\n",
    "#         user_otp = prompt_for_otp()\n",
    "#         if verify_otp(otp, user_otp):\n",
    "#             print(\"Access Granted.\")\n",
    "#             break\n",
    "#         else:\n",
    "#             print(\"Invalid OTP. Please try again.\")\n",
    "#     else:\n",
    "#         print(\"Access Denied.\")\n",
    "\n",
    "# run_otp_system()\n",
    "            "
   ]
  },
  {
   "cell_type": "code",
   "execution_count": null,
   "id": "697bb055-6742-40cd-9607-42e85e9a8793",
   "metadata": {},
   "outputs": [],
   "source": []
  },
  {
   "cell_type": "code",
   "execution_count": null,
   "id": "56ec82f5-ed8d-42d9-b0b8-053d2591919e",
   "metadata": {},
   "outputs": [],
   "source": []
  },
  {
   "cell_type": "code",
   "execution_count": null,
   "id": "f8776b52-fbba-4a5d-8836-10a5349ce06e",
   "metadata": {},
   "outputs": [],
   "source": []
  },
  {
   "cell_type": "code",
   "execution_count": null,
   "id": "4e490981-4fe4-4e83-80c9-ce90ab4ca4cc",
   "metadata": {},
   "outputs": [],
   "source": []
  },
  {
   "cell_type": "code",
   "execution_count": null,
   "id": "de53c71e-ceae-460c-b317-860a4284a980",
   "metadata": {},
   "outputs": [],
   "source": []
  },
  {
   "cell_type": "code",
   "execution_count": null,
   "id": "35a7f4a3-61ec-41ea-9370-b3c4745095b7",
   "metadata": {},
   "outputs": [],
   "source": []
  },
  {
   "cell_type": "code",
   "execution_count": null,
   "id": "b039e356-fd19-4710-ab98-233ef7e6d7aa",
   "metadata": {},
   "outputs": [],
   "source": []
  }
 ],
 "metadata": {
  "kernelspec": {
   "display_name": "Python 3 (ipykernel)",
   "language": "python",
   "name": "python3"
  },
  "language_info": {
   "codemirror_mode": {
    "name": "ipython",
    "version": 3
   },
   "file_extension": ".py",
   "mimetype": "text/x-python",
   "name": "python",
   "nbconvert_exporter": "python",
   "pygments_lexer": "ipython3",
   "version": "3.11.5"
  }
 },
 "nbformat": 4,
 "nbformat_minor": 5
}
