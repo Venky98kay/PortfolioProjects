{
 "cells": [
  {
   "cell_type": "code",
   "execution_count": 46,
   "id": "6f1e7020-55b7-4044-8872-25fa091c5b22",
   "metadata": {
    "tags": []
   },
   "outputs": [],
   "source": [
    "#Immporting all necessary libraries\n",
    "import pandas as pd\n",
    "import numpy as np\n",
    "import seaborn as sns\n",
    "import matplotlib.pyplot as plt\n",
    "from scipy import stats\n",
    "from sklearn.model_selection import train_test_split\n",
    "from sklearn.linear_model import LinearRegression\n",
    "from sklearn.ensemble import RandomForestRegressor, GradientBoostingRegressor\n",
    "from sklearn.metrics import mean_absolute_error\n",
    "from sklearn.model_selection import GridSearchCV\n",
    "from sklearn.metrics import r2_score\n",
    "import joblib"
   ]
  },
  {
   "cell_type": "code",
   "execution_count": 2,
   "id": "a3c633aa-5852-4b28-9e93-83b6d3167c3c",
   "metadata": {
    "tags": []
   },
   "outputs": [],
   "source": [
    "df = pd.read_csv(r\"C:\\Users\\Venkatesh\\Downloads\\laptop.csv\")"
   ]
  },
  {
   "cell_type": "code",
   "execution_count": 3,
   "id": "e7786cae-b2fd-4354-b48d-d44dd84adc7a",
   "metadata": {
    "tags": []
   },
   "outputs": [
    {
     "data": {
      "text/html": [
       "<div>\n",
       "<style scoped>\n",
       "    .dataframe tbody tr th:only-of-type {\n",
       "        vertical-align: middle;\n",
       "    }\n",
       "\n",
       "    .dataframe tbody tr th {\n",
       "        vertical-align: top;\n",
       "    }\n",
       "\n",
       "    .dataframe thead th {\n",
       "        text-align: right;\n",
       "    }\n",
       "</style>\n",
       "<table border=\"1\" class=\"dataframe\">\n",
       "  <thead>\n",
       "    <tr style=\"text-align: right;\">\n",
       "      <th></th>\n",
       "      <th>Unnamed: 0.1</th>\n",
       "      <th>Unnamed: 0</th>\n",
       "      <th>Company</th>\n",
       "      <th>TypeName</th>\n",
       "      <th>Inches</th>\n",
       "      <th>ScreenResolution</th>\n",
       "      <th>Cpu</th>\n",
       "      <th>Ram</th>\n",
       "      <th>Memory</th>\n",
       "      <th>Gpu</th>\n",
       "      <th>OpSys</th>\n",
       "      <th>Weight</th>\n",
       "      <th>Price</th>\n",
       "    </tr>\n",
       "  </thead>\n",
       "  <tbody>\n",
       "    <tr>\n",
       "      <th>0</th>\n",
       "      <td>0</td>\n",
       "      <td>0.0</td>\n",
       "      <td>Apple</td>\n",
       "      <td>Ultrabook</td>\n",
       "      <td>13.3</td>\n",
       "      <td>IPS Panel Retina Display 2560x1600</td>\n",
       "      <td>Intel Core i5 2.3GHz</td>\n",
       "      <td>8GB</td>\n",
       "      <td>128GB SSD</td>\n",
       "      <td>Intel Iris Plus Graphics 640</td>\n",
       "      <td>macOS</td>\n",
       "      <td>1.37kg</td>\n",
       "      <td>71378.6832</td>\n",
       "    </tr>\n",
       "    <tr>\n",
       "      <th>1</th>\n",
       "      <td>1</td>\n",
       "      <td>1.0</td>\n",
       "      <td>Apple</td>\n",
       "      <td>Ultrabook</td>\n",
       "      <td>13.3</td>\n",
       "      <td>1440x900</td>\n",
       "      <td>Intel Core i5 1.8GHz</td>\n",
       "      <td>8GB</td>\n",
       "      <td>128GB Flash Storage</td>\n",
       "      <td>Intel HD Graphics 6000</td>\n",
       "      <td>macOS</td>\n",
       "      <td>1.34kg</td>\n",
       "      <td>47895.5232</td>\n",
       "    </tr>\n",
       "    <tr>\n",
       "      <th>2</th>\n",
       "      <td>2</td>\n",
       "      <td>2.0</td>\n",
       "      <td>HP</td>\n",
       "      <td>Notebook</td>\n",
       "      <td>15.6</td>\n",
       "      <td>Full HD 1920x1080</td>\n",
       "      <td>Intel Core i5 7200U 2.5GHz</td>\n",
       "      <td>8GB</td>\n",
       "      <td>256GB SSD</td>\n",
       "      <td>Intel HD Graphics 620</td>\n",
       "      <td>No OS</td>\n",
       "      <td>1.86kg</td>\n",
       "      <td>30636.0000</td>\n",
       "    </tr>\n",
       "    <tr>\n",
       "      <th>3</th>\n",
       "      <td>3</td>\n",
       "      <td>3.0</td>\n",
       "      <td>Apple</td>\n",
       "      <td>Ultrabook</td>\n",
       "      <td>15.4</td>\n",
       "      <td>IPS Panel Retina Display 2880x1800</td>\n",
       "      <td>Intel Core i7 2.7GHz</td>\n",
       "      <td>16GB</td>\n",
       "      <td>512GB SSD</td>\n",
       "      <td>AMD Radeon Pro 455</td>\n",
       "      <td>macOS</td>\n",
       "      <td>1.83kg</td>\n",
       "      <td>135195.3360</td>\n",
       "    </tr>\n",
       "    <tr>\n",
       "      <th>4</th>\n",
       "      <td>4</td>\n",
       "      <td>4.0</td>\n",
       "      <td>Apple</td>\n",
       "      <td>Ultrabook</td>\n",
       "      <td>13.3</td>\n",
       "      <td>IPS Panel Retina Display 2560x1600</td>\n",
       "      <td>Intel Core i5 3.1GHz</td>\n",
       "      <td>8GB</td>\n",
       "      <td>256GB SSD</td>\n",
       "      <td>Intel Iris Plus Graphics 650</td>\n",
       "      <td>macOS</td>\n",
       "      <td>1.37kg</td>\n",
       "      <td>96095.8080</td>\n",
       "    </tr>\n",
       "    <tr>\n",
       "      <th>...</th>\n",
       "      <td>...</td>\n",
       "      <td>...</td>\n",
       "      <td>...</td>\n",
       "      <td>...</td>\n",
       "      <td>...</td>\n",
       "      <td>...</td>\n",
       "      <td>...</td>\n",
       "      <td>...</td>\n",
       "      <td>...</td>\n",
       "      <td>...</td>\n",
       "      <td>...</td>\n",
       "      <td>...</td>\n",
       "      <td>...</td>\n",
       "    </tr>\n",
       "    <tr>\n",
       "      <th>1298</th>\n",
       "      <td>1298</td>\n",
       "      <td>1298.0</td>\n",
       "      <td>Lenovo</td>\n",
       "      <td>2 in 1 Convertible</td>\n",
       "      <td>14</td>\n",
       "      <td>IPS Panel Full HD / Touchscreen 1920x1080</td>\n",
       "      <td>Intel Core i7 6500U 2.5GHz</td>\n",
       "      <td>4GB</td>\n",
       "      <td>128GB SSD</td>\n",
       "      <td>Intel HD Graphics 520</td>\n",
       "      <td>Windows 10</td>\n",
       "      <td>1.8kg</td>\n",
       "      <td>33992.6400</td>\n",
       "    </tr>\n",
       "    <tr>\n",
       "      <th>1299</th>\n",
       "      <td>1299</td>\n",
       "      <td>1299.0</td>\n",
       "      <td>Lenovo</td>\n",
       "      <td>2 in 1 Convertible</td>\n",
       "      <td>13.3</td>\n",
       "      <td>IPS Panel Quad HD+ / Touchscreen 3200x1800</td>\n",
       "      <td>Intel Core i7 6500U 2.5GHz</td>\n",
       "      <td>16GB</td>\n",
       "      <td>512GB SSD</td>\n",
       "      <td>Intel HD Graphics 520</td>\n",
       "      <td>Windows 10</td>\n",
       "      <td>1.3kg</td>\n",
       "      <td>79866.7200</td>\n",
       "    </tr>\n",
       "    <tr>\n",
       "      <th>1300</th>\n",
       "      <td>1300</td>\n",
       "      <td>1300.0</td>\n",
       "      <td>Lenovo</td>\n",
       "      <td>Notebook</td>\n",
       "      <td>14</td>\n",
       "      <td>1366x768</td>\n",
       "      <td>Intel Celeron Dual Core N3050 1.6GHz</td>\n",
       "      <td>2GB</td>\n",
       "      <td>64GB Flash Storage</td>\n",
       "      <td>Intel HD Graphics</td>\n",
       "      <td>Windows 10</td>\n",
       "      <td>1.5kg</td>\n",
       "      <td>12201.1200</td>\n",
       "    </tr>\n",
       "    <tr>\n",
       "      <th>1301</th>\n",
       "      <td>1301</td>\n",
       "      <td>1301.0</td>\n",
       "      <td>HP</td>\n",
       "      <td>Notebook</td>\n",
       "      <td>15.6</td>\n",
       "      <td>1366x768</td>\n",
       "      <td>Intel Core i7 6500U 2.5GHz</td>\n",
       "      <td>6GB</td>\n",
       "      <td>1TB HDD</td>\n",
       "      <td>AMD Radeon R5 M330</td>\n",
       "      <td>Windows 10</td>\n",
       "      <td>2.19kg</td>\n",
       "      <td>40705.9200</td>\n",
       "    </tr>\n",
       "    <tr>\n",
       "      <th>1302</th>\n",
       "      <td>1302</td>\n",
       "      <td>1302.0</td>\n",
       "      <td>Asus</td>\n",
       "      <td>Notebook</td>\n",
       "      <td>15.6</td>\n",
       "      <td>1366x768</td>\n",
       "      <td>Intel Celeron Dual Core N3050 1.6GHz</td>\n",
       "      <td>4GB</td>\n",
       "      <td>500GB HDD</td>\n",
       "      <td>Intel HD Graphics</td>\n",
       "      <td>Windows 10</td>\n",
       "      <td>2.2kg</td>\n",
       "      <td>19660.3200</td>\n",
       "    </tr>\n",
       "  </tbody>\n",
       "</table>\n",
       "<p>1303 rows × 13 columns</p>\n",
       "</div>"
      ],
      "text/plain": [
       "      Unnamed: 0.1  Unnamed: 0 Company            TypeName Inches  \\\n",
       "0                0         0.0   Apple           Ultrabook   13.3   \n",
       "1                1         1.0   Apple           Ultrabook   13.3   \n",
       "2                2         2.0      HP            Notebook   15.6   \n",
       "3                3         3.0   Apple           Ultrabook   15.4   \n",
       "4                4         4.0   Apple           Ultrabook   13.3   \n",
       "...            ...         ...     ...                 ...    ...   \n",
       "1298          1298      1298.0  Lenovo  2 in 1 Convertible     14   \n",
       "1299          1299      1299.0  Lenovo  2 in 1 Convertible   13.3   \n",
       "1300          1300      1300.0  Lenovo            Notebook     14   \n",
       "1301          1301      1301.0      HP            Notebook   15.6   \n",
       "1302          1302      1302.0    Asus            Notebook   15.6   \n",
       "\n",
       "                                ScreenResolution  \\\n",
       "0             IPS Panel Retina Display 2560x1600   \n",
       "1                                       1440x900   \n",
       "2                              Full HD 1920x1080   \n",
       "3             IPS Panel Retina Display 2880x1800   \n",
       "4             IPS Panel Retina Display 2560x1600   \n",
       "...                                          ...   \n",
       "1298   IPS Panel Full HD / Touchscreen 1920x1080   \n",
       "1299  IPS Panel Quad HD+ / Touchscreen 3200x1800   \n",
       "1300                                    1366x768   \n",
       "1301                                    1366x768   \n",
       "1302                                    1366x768   \n",
       "\n",
       "                                       Cpu   Ram               Memory  \\\n",
       "0                     Intel Core i5 2.3GHz   8GB            128GB SSD   \n",
       "1                     Intel Core i5 1.8GHz   8GB  128GB Flash Storage   \n",
       "2               Intel Core i5 7200U 2.5GHz   8GB            256GB SSD   \n",
       "3                     Intel Core i7 2.7GHz  16GB            512GB SSD   \n",
       "4                     Intel Core i5 3.1GHz   8GB            256GB SSD   \n",
       "...                                    ...   ...                  ...   \n",
       "1298            Intel Core i7 6500U 2.5GHz   4GB            128GB SSD   \n",
       "1299            Intel Core i7 6500U 2.5GHz  16GB            512GB SSD   \n",
       "1300  Intel Celeron Dual Core N3050 1.6GHz   2GB   64GB Flash Storage   \n",
       "1301            Intel Core i7 6500U 2.5GHz   6GB              1TB HDD   \n",
       "1302  Intel Celeron Dual Core N3050 1.6GHz   4GB            500GB HDD   \n",
       "\n",
       "                               Gpu       OpSys  Weight        Price  \n",
       "0     Intel Iris Plus Graphics 640       macOS  1.37kg   71378.6832  \n",
       "1           Intel HD Graphics 6000       macOS  1.34kg   47895.5232  \n",
       "2            Intel HD Graphics 620       No OS  1.86kg   30636.0000  \n",
       "3               AMD Radeon Pro 455       macOS  1.83kg  135195.3360  \n",
       "4     Intel Iris Plus Graphics 650       macOS  1.37kg   96095.8080  \n",
       "...                            ...         ...     ...          ...  \n",
       "1298         Intel HD Graphics 520  Windows 10   1.8kg   33992.6400  \n",
       "1299         Intel HD Graphics 520  Windows 10   1.3kg   79866.7200  \n",
       "1300             Intel HD Graphics  Windows 10   1.5kg   12201.1200  \n",
       "1301            AMD Radeon R5 M330  Windows 10  2.19kg   40705.9200  \n",
       "1302             Intel HD Graphics  Windows 10   2.2kg   19660.3200  \n",
       "\n",
       "[1303 rows x 13 columns]"
      ]
     },
     "execution_count": 3,
     "metadata": {},
     "output_type": "execute_result"
    }
   ],
   "source": [
    "df"
   ]
  },
  {
   "cell_type": "code",
   "execution_count": 4,
   "id": "7c10c8da-041a-4d79-89ad-d493e534cb94",
   "metadata": {
    "tags": []
   },
   "outputs": [
    {
     "name": "stdout",
     "output_type": "stream",
     "text": [
      "<class 'pandas.core.frame.DataFrame'>\n",
      "RangeIndex: 1303 entries, 0 to 1302\n",
      "Data columns (total 13 columns):\n",
      " #   Column            Non-Null Count  Dtype  \n",
      "---  ------            --------------  -----  \n",
      " 0   Unnamed: 0.1      1303 non-null   int64  \n",
      " 1   Unnamed: 0        1273 non-null   float64\n",
      " 2   Company           1273 non-null   object \n",
      " 3   TypeName          1273 non-null   object \n",
      " 4   Inches            1273 non-null   object \n",
      " 5   ScreenResolution  1273 non-null   object \n",
      " 6   Cpu               1273 non-null   object \n",
      " 7   Ram               1273 non-null   object \n",
      " 8   Memory            1273 non-null   object \n",
      " 9   Gpu               1273 non-null   object \n",
      " 10  OpSys             1273 non-null   object \n",
      " 11  Weight            1273 non-null   object \n",
      " 12  Price             1273 non-null   float64\n",
      "dtypes: float64(2), int64(1), object(10)\n",
      "memory usage: 132.5+ KB\n"
     ]
    }
   ],
   "source": [
    "df.info()"
   ]
  },
  {
   "cell_type": "code",
   "execution_count": 5,
   "id": "294bf927-1409-4616-9e7c-2d457d7a64a5",
   "metadata": {
    "tags": []
   },
   "outputs": [
    {
     "data": {
      "text/html": [
       "<div>\n",
       "<style scoped>\n",
       "    .dataframe tbody tr th:only-of-type {\n",
       "        vertical-align: middle;\n",
       "    }\n",
       "\n",
       "    .dataframe tbody tr th {\n",
       "        vertical-align: top;\n",
       "    }\n",
       "\n",
       "    .dataframe thead th {\n",
       "        text-align: right;\n",
       "    }\n",
       "</style>\n",
       "<table border=\"1\" class=\"dataframe\">\n",
       "  <thead>\n",
       "    <tr style=\"text-align: right;\">\n",
       "      <th></th>\n",
       "      <th>Unnamed: 0.1</th>\n",
       "      <th>Unnamed: 0</th>\n",
       "      <th>Price</th>\n",
       "    </tr>\n",
       "  </thead>\n",
       "  <tbody>\n",
       "    <tr>\n",
       "      <th>count</th>\n",
       "      <td>1303.00000</td>\n",
       "      <td>1273.000000</td>\n",
       "      <td>1273.000000</td>\n",
       "    </tr>\n",
       "    <tr>\n",
       "      <th>mean</th>\n",
       "      <td>651.00000</td>\n",
       "      <td>652.674784</td>\n",
       "      <td>59955.814073</td>\n",
       "    </tr>\n",
       "    <tr>\n",
       "      <th>std</th>\n",
       "      <td>376.28801</td>\n",
       "      <td>376.493027</td>\n",
       "      <td>37332.251005</td>\n",
       "    </tr>\n",
       "    <tr>\n",
       "      <th>min</th>\n",
       "      <td>0.00000</td>\n",
       "      <td>0.000000</td>\n",
       "      <td>9270.720000</td>\n",
       "    </tr>\n",
       "    <tr>\n",
       "      <th>25%</th>\n",
       "      <td>325.50000</td>\n",
       "      <td>327.000000</td>\n",
       "      <td>31914.720000</td>\n",
       "    </tr>\n",
       "    <tr>\n",
       "      <th>50%</th>\n",
       "      <td>651.00000</td>\n",
       "      <td>652.000000</td>\n",
       "      <td>52161.120000</td>\n",
       "    </tr>\n",
       "    <tr>\n",
       "      <th>75%</th>\n",
       "      <td>976.50000</td>\n",
       "      <td>980.000000</td>\n",
       "      <td>79333.387200</td>\n",
       "    </tr>\n",
       "    <tr>\n",
       "      <th>max</th>\n",
       "      <td>1302.00000</td>\n",
       "      <td>1302.000000</td>\n",
       "      <td>324954.720000</td>\n",
       "    </tr>\n",
       "  </tbody>\n",
       "</table>\n",
       "</div>"
      ],
      "text/plain": [
       "       Unnamed: 0.1   Unnamed: 0          Price\n",
       "count    1303.00000  1273.000000    1273.000000\n",
       "mean      651.00000   652.674784   59955.814073\n",
       "std       376.28801   376.493027   37332.251005\n",
       "min         0.00000     0.000000    9270.720000\n",
       "25%       325.50000   327.000000   31914.720000\n",
       "50%       651.00000   652.000000   52161.120000\n",
       "75%       976.50000   980.000000   79333.387200\n",
       "max      1302.00000  1302.000000  324954.720000"
      ]
     },
     "execution_count": 5,
     "metadata": {},
     "output_type": "execute_result"
    }
   ],
   "source": [
    "df.describe()"
   ]
  },
  {
   "cell_type": "code",
   "execution_count": 6,
   "id": "35b10bc7-e5e4-466b-87a5-c8605e8a4b4a",
   "metadata": {
    "tags": []
   },
   "outputs": [
    {
     "data": {
      "text/plain": [
       "Company\n",
       "Lenovo       290\n",
       "Dell         287\n",
       "HP           266\n",
       "Asus         156\n",
       "Acer         103\n",
       "MSI           53\n",
       "Toshiba       47\n",
       "Apple         21\n",
       "Samsung        9\n",
       "Razer          7\n",
       "Mediacom       7\n",
       "Microsoft      6\n",
       "Xiaomi         4\n",
       "Vero           4\n",
       "Chuwi          3\n",
       "Google         3\n",
       "LG             3\n",
       "Huawei         2\n",
       "Fujitsu        2\n",
       "Name: count, dtype: int64"
      ]
     },
     "execution_count": 6,
     "metadata": {},
     "output_type": "execute_result"
    }
   ],
   "source": [
    "df['Company'].value_counts()"
   ]
  },
  {
   "cell_type": "code",
   "execution_count": 7,
   "id": "5b52f657-17c4-488e-9403-5927b8bec33f",
   "metadata": {
    "tags": []
   },
   "outputs": [
    {
     "data": {
      "text/plain": [
       "Ram\n",
       "8GB     601\n",
       "4GB     367\n",
       "16GB    194\n",
       "6GB      40\n",
       "12GB     25\n",
       "2GB      22\n",
       "32GB     17\n",
       "64GB      3\n",
       "24GB      3\n",
       "1GB       1\n",
       "Name: count, dtype: int64"
      ]
     },
     "execution_count": 7,
     "metadata": {},
     "output_type": "execute_result"
    }
   ],
   "source": [
    "df['Ram'].value_counts()"
   ]
  },
  {
   "cell_type": "code",
   "execution_count": 8,
   "id": "99bf902e-51c3-499f-90aa-50623666adb7",
   "metadata": {
    "tags": []
   },
   "outputs": [
    {
     "data": {
      "text/plain": [
       "Unnamed: 0.1         0\n",
       "Unnamed: 0          30\n",
       "Company             30\n",
       "TypeName            30\n",
       "Inches              30\n",
       "ScreenResolution    30\n",
       "Cpu                 30\n",
       "Ram                 30\n",
       "Memory              30\n",
       "Gpu                 30\n",
       "OpSys               30\n",
       "Weight              30\n",
       "Price               30\n",
       "dtype: int64"
      ]
     },
     "execution_count": 8,
     "metadata": {},
     "output_type": "execute_result"
    }
   ],
   "source": [
    " #Checking for null values\n",
    "df.isnull().sum()"
   ]
  },
  {
   "cell_type": "code",
   "execution_count": 9,
   "id": "9b471a01-a7fc-42d2-ac94-919a72ff92fb",
   "metadata": {
    "tags": []
   },
   "outputs": [],
   "source": [
    "df.dropna(inplace = True)"
   ]
  },
  {
   "cell_type": "code",
   "execution_count": 10,
   "id": "ac643d4e-d346-4a0a-b7d3-93acfc2fe0bd",
   "metadata": {
    "tags": []
   },
   "outputs": [],
   "source": [
    "#Appropriate datatype conversion\n",
    "x = df[df['Inches'] == '?'].index\n",
    "df.drop(x, inplace = True)\n",
    "df['Inches'] = df['Inches'].astype('float64')"
   ]
  },
  {
   "cell_type": "code",
   "execution_count": 11,
   "id": "8d270ea7-ae19-44b9-b644-f60e4a29dd65",
   "metadata": {
    "tags": []
   },
   "outputs": [
    {
     "data": {
      "text/plain": [
       "Unnamed: 0.1          int64\n",
       "Unnamed: 0          float64\n",
       "Company              object\n",
       "TypeName             object\n",
       "Inches              float64\n",
       "ScreenResolution     object\n",
       "Cpu                  object\n",
       "Ram                  object\n",
       "Memory               object\n",
       "Gpu                  object\n",
       "OpSys                object\n",
       "Weight               object\n",
       "Price               float64\n",
       "dtype: object"
      ]
     },
     "execution_count": 11,
     "metadata": {},
     "output_type": "execute_result"
    }
   ],
   "source": [
    "df.dtypes"
   ]
  },
  {
   "cell_type": "code",
   "execution_count": 12,
   "id": "80a91d34-2442-441d-8006-3e24fb2f39a4",
   "metadata": {
    "tags": []
   },
   "outputs": [],
   "source": [
    "df.drop(['Unnamed: 0.1', 'Unnamed: 0'], axis=1, inplace=True)"
   ]
  },
  {
   "cell_type": "code",
   "execution_count": 13,
   "id": "abc8537f-498d-4655-b92e-5f9e13dcc07f",
   "metadata": {
    "tags": []
   },
   "outputs": [
    {
     "data": {
      "image/png": "[encoded data removed]",
      "text/plain": [
       "<Figure size 640x480 with 1 Axes>"
      ]
     },
     "metadata": {},
     "output_type": "display_data"
    }
   ],
   "source": [
    "#Distribution of laptop prices\n",
    "sns.histplot(df['Price'], bins=25)\n",
    "plt.show()"
   ]
  },
  {
   "cell_type": "code",
   "execution_count": 14,
   "id": "505d458d-ee5e-444f-a2cb-c01416192bd3",
   "metadata": {
    "tags": []
   },
   "outputs": [
    {
     "data": {
      "text/html": [
       "<div>\n",
       "<style scoped>\n",
       "    .dataframe tbody tr th:only-of-type {\n",
       "        vertical-align: middle;\n",
       "    }\n",
       "\n",
       "    .dataframe tbody tr th {\n",
       "        vertical-align: top;\n",
       "    }\n",
       "\n",
       "    .dataframe thead th {\n",
       "        text-align: right;\n",
       "    }\n",
       "</style>\n",
       "<table border=\"1\" class=\"dataframe\">\n",
       "  <thead>\n",
       "    <tr style=\"text-align: right;\">\n",
       "      <th></th>\n",
       "      <th>Company</th>\n",
       "      <th>TypeName</th>\n",
       "      <th>Inches</th>\n",
       "      <th>ScreenResolution</th>\n",
       "      <th>Cpu</th>\n",
       "      <th>Ram</th>\n",
       "      <th>Memory</th>\n",
       "      <th>Gpu</th>\n",
       "      <th>OpSys</th>\n",
       "      <th>Weight</th>\n",
       "      <th>Price</th>\n",
       "    </tr>\n",
       "  </thead>\n",
       "  <tbody>\n",
       "    <tr>\n",
       "      <th>196</th>\n",
       "      <td>Razer</td>\n",
       "      <td>Gaming</td>\n",
       "      <td>17.3</td>\n",
       "      <td>4K Ultra HD / Touchscreen 3840x2160</td>\n",
       "      <td>Intel Core i7 7820HK 2.9GHz</td>\n",
       "      <td>32GB</td>\n",
       "      <td>1TB SSD</td>\n",
       "      <td>Nvidia GeForce GTX 1080</td>\n",
       "      <td>Windows 10</td>\n",
       "      <td>3.49kg</td>\n",
       "      <td>324954.72</td>\n",
       "    </tr>\n",
       "  </tbody>\n",
       "</table>\n",
       "</div>"
      ],
      "text/plain": [
       "    Company TypeName  Inches                     ScreenResolution  \\\n",
       "196   Razer   Gaming    17.3  4K Ultra HD / Touchscreen 3840x2160   \n",
       "\n",
       "                             Cpu   Ram   Memory                      Gpu  \\\n",
       "196  Intel Core i7 7820HK 2.9GHz  32GB  1TB SSD  Nvidia GeForce GTX 1080   \n",
       "\n",
       "          OpSys  Weight      Price  \n",
       "196  Windows 10  3.49kg  324954.72  "
      ]
     },
     "execution_count": 14,
     "metadata": {},
     "output_type": "execute_result"
    }
   ],
   "source": [
    "df[df['Price'] == df['Price'].max()]"
   ]
  },
  {
   "cell_type": "code",
   "execution_count": 15,
   "id": "9e607084-ae21-4ca5-912f-b709d5453a64",
   "metadata": {
    "tags": []
   },
   "outputs": [
    {
     "data": {
      "text/html": [
       "<div>\n",
       "<style scoped>\n",
       "    .dataframe tbody tr th:only-of-type {\n",
       "        vertical-align: middle;\n",
       "    }\n",
       "\n",
       "    .dataframe tbody tr th {\n",
       "        vertical-align: top;\n",
       "    }\n",
       "\n",
       "    .dataframe thead th {\n",
       "        text-align: right;\n",
       "    }\n",
       "</style>\n",
       "<table border=\"1\" class=\"dataframe\">\n",
       "  <thead>\n",
       "    <tr style=\"text-align: right;\">\n",
       "      <th></th>\n",
       "      <th>Company</th>\n",
       "      <th>TypeName</th>\n",
       "      <th>Inches</th>\n",
       "      <th>ScreenResolution</th>\n",
       "      <th>Cpu</th>\n",
       "      <th>Ram</th>\n",
       "      <th>Memory</th>\n",
       "      <th>Gpu</th>\n",
       "      <th>OpSys</th>\n",
       "      <th>Weight</th>\n",
       "      <th>Price</th>\n",
       "    </tr>\n",
       "  </thead>\n",
       "  <tbody>\n",
       "    <tr>\n",
       "      <th>1215</th>\n",
       "      <td>Acer</td>\n",
       "      <td>Netbook</td>\n",
       "      <td>11.6</td>\n",
       "      <td>1366x768</td>\n",
       "      <td>Intel Celeron Dual Core 3205U 1.5GHz</td>\n",
       "      <td>2GB</td>\n",
       "      <td>32GB SSD</td>\n",
       "      <td>Intel HD Graphics</td>\n",
       "      <td>Chrome OS</td>\n",
       "      <td>1.3kg</td>\n",
       "      <td>9270.72</td>\n",
       "    </tr>\n",
       "  </tbody>\n",
       "</table>\n",
       "</div>"
      ],
      "text/plain": [
       "     Company TypeName  Inches ScreenResolution  \\\n",
       "1215    Acer  Netbook    11.6         1366x768   \n",
       "\n",
       "                                       Cpu  Ram    Memory                Gpu  \\\n",
       "1215  Intel Celeron Dual Core 3205U 1.5GHz  2GB  32GB SSD  Intel HD Graphics   \n",
       "\n",
       "          OpSys Weight    Price  \n",
       "1215  Chrome OS  1.3kg  9270.72  "
      ]
     },
     "execution_count": 15,
     "metadata": {},
     "output_type": "execute_result"
    }
   ],
   "source": [
    "df[df['Price'] == df['Price'].min()]"
   ]
  },
  {
   "cell_type": "code",
   "execution_count": 16,
   "id": "aed86781-f6dc-4925-a8d0-c09846aa68db",
   "metadata": {
    "tags": []
   },
   "outputs": [
    {
     "data": {
      "text/html": [
       "<div>\n",
       "<style scoped>\n",
       "    .dataframe tbody tr th:only-of-type {\n",
       "        vertical-align: middle;\n",
       "    }\n",
       "\n",
       "    .dataframe tbody tr th {\n",
       "        vertical-align: top;\n",
       "    }\n",
       "\n",
       "    .dataframe thead th {\n",
       "        text-align: right;\n",
       "    }\n",
       "</style>\n",
       "<table border=\"1\" class=\"dataframe\">\n",
       "  <thead>\n",
       "    <tr style=\"text-align: right;\">\n",
       "      <th></th>\n",
       "      <th>Inches</th>\n",
       "      <th>Price</th>\n",
       "    </tr>\n",
       "    <tr>\n",
       "      <th>Company</th>\n",
       "      <th></th>\n",
       "      <th></th>\n",
       "    </tr>\n",
       "  </thead>\n",
       "  <tbody>\n",
       "    <tr>\n",
       "      <th>Razer</th>\n",
       "      <td>14.514286</td>\n",
       "      <td>178282.491429</td>\n",
       "    </tr>\n",
       "    <tr>\n",
       "      <th>LG</th>\n",
       "      <td>15.066667</td>\n",
       "      <td>111834.720000</td>\n",
       "    </tr>\n",
       "    <tr>\n",
       "      <th>MSI</th>\n",
       "      <td>16.426415</td>\n",
       "      <td>91814.548891</td>\n",
       "    </tr>\n",
       "    <tr>\n",
       "      <th>Google</th>\n",
       "      <td>12.300000</td>\n",
       "      <td>89386.080000</td>\n",
       "    </tr>\n",
       "    <tr>\n",
       "      <th>Microsoft</th>\n",
       "      <td>16.833333</td>\n",
       "      <td>85903.788000</td>\n",
       "    </tr>\n",
       "    <tr>\n",
       "      <th>Apple</th>\n",
       "      <td>13.247619</td>\n",
       "      <td>83340.499886</td>\n",
       "    </tr>\n",
       "    <tr>\n",
       "      <th>Huawei</th>\n",
       "      <td>13.000000</td>\n",
       "      <td>75870.720000</td>\n",
       "    </tr>\n",
       "    <tr>\n",
       "      <th>Samsung</th>\n",
       "      <td>13.822222</td>\n",
       "      <td>75308.320000</td>\n",
       "    </tr>\n",
       "    <tr>\n",
       "      <th>Toshiba</th>\n",
       "      <td>14.327660</td>\n",
       "      <td>66747.370213</td>\n",
       "    </tr>\n",
       "    <tr>\n",
       "      <th>Dell</th>\n",
       "      <td>15.236713</td>\n",
       "      <td>63009.574439</td>\n",
       "    </tr>\n",
       "    <tr>\n",
       "      <th>Xiaomi</th>\n",
       "      <td>14.450000</td>\n",
       "      <td>60390.882000</td>\n",
       "    </tr>\n",
       "    <tr>\n",
       "      <th>Asus</th>\n",
       "      <td>15.601923</td>\n",
       "      <td>58972.373723</td>\n",
       "    </tr>\n",
       "    <tr>\n",
       "      <th>Lenovo</th>\n",
       "      <td>15.126552</td>\n",
       "      <td>58072.477208</td>\n",
       "    </tr>\n",
       "    <tr>\n",
       "      <th>HP</th>\n",
       "      <td>14.952256</td>\n",
       "      <td>57214.371465</td>\n",
       "    </tr>\n",
       "    <tr>\n",
       "      <th>Fujitsu</th>\n",
       "      <td>15.600000</td>\n",
       "      <td>38574.720000</td>\n",
       "    </tr>\n",
       "    <tr>\n",
       "      <th>Acer</th>\n",
       "      <td>15.063107</td>\n",
       "      <td>33394.615969</td>\n",
       "    </tr>\n",
       "    <tr>\n",
       "      <th>Chuwi</th>\n",
       "      <td>14.500000</td>\n",
       "      <td>16745.726400</td>\n",
       "    </tr>\n",
       "    <tr>\n",
       "      <th>Mediacom</th>\n",
       "      <td>13.457143</td>\n",
       "      <td>15717.600000</td>\n",
       "    </tr>\n",
       "    <tr>\n",
       "      <th>Vero</th>\n",
       "      <td>13.825000</td>\n",
       "      <td>11584.404000</td>\n",
       "    </tr>\n",
       "  </tbody>\n",
       "</table>\n",
       "</div>"
      ],
      "text/plain": [
       "              Inches          Price\n",
       "Company                            \n",
       "Razer      14.514286  178282.491429\n",
       "LG         15.066667  111834.720000\n",
       "MSI        16.426415   91814.548891\n",
       "Google     12.300000   89386.080000\n",
       "Microsoft  16.833333   85903.788000\n",
       "Apple      13.247619   83340.499886\n",
       "Huawei     13.000000   75870.720000\n",
       "Samsung    13.822222   75308.320000\n",
       "Toshiba    14.327660   66747.370213\n",
       "Dell       15.236713   63009.574439\n",
       "Xiaomi     14.450000   60390.882000\n",
       "Asus       15.601923   58972.373723\n",
       "Lenovo     15.126552   58072.477208\n",
       "HP         14.952256   57214.371465\n",
       "Fujitsu    15.600000   38574.720000\n",
       "Acer       15.063107   33394.615969\n",
       "Chuwi      14.500000   16745.726400\n",
       "Mediacom   13.457143   15717.600000\n",
       "Vero       13.825000   11584.404000"
      ]
     },
     "execution_count": 16,
     "metadata": {},
     "output_type": "execute_result"
    }
   ],
   "source": [
    "#Prices of different brands\n",
    "df.groupby('Company').mean('Price').sort_values(by = 'Price', ascending = False)"
   ]
  },
  {
   "cell_type": "code",
   "execution_count": 17,
   "id": "784d4e1f-ad28-430c-92fa-6359308523b6",
   "metadata": {
    "tags": []
   },
   "outputs": [
    {
     "data": {
      "text/html": [
       "<div>\n",
       "<style scoped>\n",
       "    .dataframe tbody tr th:only-of-type {\n",
       "        vertical-align: middle;\n",
       "    }\n",
       "\n",
       "    .dataframe tbody tr th {\n",
       "        vertical-align: top;\n",
       "    }\n",
       "\n",
       "    .dataframe thead th {\n",
       "        text-align: right;\n",
       "    }\n",
       "</style>\n",
       "<table border=\"1\" class=\"dataframe\">\n",
       "  <thead>\n",
       "    <tr style=\"text-align: right;\">\n",
       "      <th></th>\n",
       "      <th></th>\n",
       "      <th>Inches</th>\n",
       "      <th>Price</th>\n",
       "    </tr>\n",
       "    <tr>\n",
       "      <th>Company</th>\n",
       "      <th>TypeName</th>\n",
       "      <th></th>\n",
       "      <th></th>\n",
       "    </tr>\n",
       "  </thead>\n",
       "  <tbody>\n",
       "    <tr>\n",
       "      <th rowspan=\"5\" valign=\"top\">Acer</th>\n",
       "      <th>2 in 1 Convertible</th>\n",
       "      <td>12.750000</td>\n",
       "      <td>37229.466600</td>\n",
       "    </tr>\n",
       "    <tr>\n",
       "      <th>Gaming</th>\n",
       "      <td>16.237500</td>\n",
       "      <td>78221.700000</td>\n",
       "    </tr>\n",
       "    <tr>\n",
       "      <th>Netbook</th>\n",
       "      <td>11.600000</td>\n",
       "      <td>16303.680000</td>\n",
       "    </tr>\n",
       "    <tr>\n",
       "      <th>Notebook</th>\n",
       "      <td>15.465385</td>\n",
       "      <td>28778.645538</td>\n",
       "    </tr>\n",
       "    <tr>\n",
       "      <th>Ultrabook</th>\n",
       "      <td>13.825000</td>\n",
       "      <td>47445.840000</td>\n",
       "    </tr>\n",
       "    <tr>\n",
       "      <th>Apple</th>\n",
       "      <th>Ultrabook</th>\n",
       "      <td>13.247619</td>\n",
       "      <td>83340.499886</td>\n",
       "    </tr>\n",
       "    <tr>\n",
       "      <th rowspan=\"5\" valign=\"top\">Asus</th>\n",
       "      <th>2 in 1 Convertible</th>\n",
       "      <td>13.623077</td>\n",
       "      <td>52021.813292</td>\n",
       "    </tr>\n",
       "    <tr>\n",
       "      <th>Gaming</th>\n",
       "      <td>16.722642</td>\n",
       "      <td>91762.525494</td>\n",
       "    </tr>\n",
       "    <tr>\n",
       "      <th>Netbook</th>\n",
       "      <td>11.600000</td>\n",
       "      <td>15502.704000</td>\n",
       "    </tr>\n",
       "    <tr>\n",
       "      <th>Notebook</th>\n",
       "      <td>15.732836</td>\n",
       "      <td>33412.015236</td>\n",
       "    </tr>\n",
       "    <tr>\n",
       "      <th>Ultrabook</th>\n",
       "      <td>14.080000</td>\n",
       "      <td>68743.987200</td>\n",
       "    </tr>\n",
       "    <tr>\n",
       "      <th>Chuwi</th>\n",
       "      <th>Notebook</th>\n",
       "      <td>14.500000</td>\n",
       "      <td>16745.726400</td>\n",
       "    </tr>\n",
       "    <tr>\n",
       "      <th rowspan=\"6\" valign=\"top\">Dell</th>\n",
       "      <th>2 in 1 Convertible</th>\n",
       "      <td>14.867857</td>\n",
       "      <td>60465.397886</td>\n",
       "    </tr>\n",
       "    <tr>\n",
       "      <th>Gaming</th>\n",
       "      <td>16.402500</td>\n",
       "      <td>102211.979040</td>\n",
       "    </tr>\n",
       "    <tr>\n",
       "      <th>Netbook</th>\n",
       "      <td>11.600000</td>\n",
       "      <td>27678.960000</td>\n",
       "    </tr>\n",
       "    <tr>\n",
       "      <th>Notebook</th>\n",
       "      <td>15.544025</td>\n",
       "      <td>45888.995049</td>\n",
       "    </tr>\n",
       "    <tr>\n",
       "      <th>Ultrabook</th>\n",
       "      <td>13.465957</td>\n",
       "      <td>79046.967523</td>\n",
       "    </tr>\n",
       "    <tr>\n",
       "      <th>Workstation</th>\n",
       "      <td>15.770000</td>\n",
       "      <td>117231.238080</td>\n",
       "    </tr>\n",
       "    <tr>\n",
       "      <th>Fujitsu</th>\n",
       "      <th>Notebook</th>\n",
       "      <td>15.600000</td>\n",
       "      <td>38574.720000</td>\n",
       "    </tr>\n",
       "    <tr>\n",
       "      <th>Google</th>\n",
       "      <th>Ultrabook</th>\n",
       "      <td>12.300000</td>\n",
       "      <td>89386.080000</td>\n",
       "    </tr>\n",
       "    <tr>\n",
       "      <th rowspan=\"6\" valign=\"top\">HP</th>\n",
       "      <th>2 in 1 Convertible</th>\n",
       "      <td>13.183333</td>\n",
       "      <td>80601.984000</td>\n",
       "    </tr>\n",
       "    <tr>\n",
       "      <th>Gaming</th>\n",
       "      <td>16.875000</td>\n",
       "      <td>75875.160000</td>\n",
       "    </tr>\n",
       "    <tr>\n",
       "      <th>Netbook</th>\n",
       "      <td>12.100000</td>\n",
       "      <td>53635.200000</td>\n",
       "    </tr>\n",
       "    <tr>\n",
       "      <th>Notebook</th>\n",
       "      <td>15.279888</td>\n",
       "      <td>43791.787468</td>\n",
       "    </tr>\n",
       "    <tr>\n",
       "      <th>Ultrabook</th>\n",
       "      <td>13.723529</td>\n",
       "      <td>82966.456376</td>\n",
       "    </tr>\n",
       "    <tr>\n",
       "      <th>Workstation</th>\n",
       "      <td>16.207143</td>\n",
       "      <td>122527.064571</td>\n",
       "    </tr>\n",
       "    <tr>\n",
       "      <th>Huawei</th>\n",
       "      <th>Ultrabook</th>\n",
       "      <td>13.000000</td>\n",
       "      <td>75870.720000</td>\n",
       "    </tr>\n",
       "    <tr>\n",
       "      <th>LG</th>\n",
       "      <th>Ultrabook</th>\n",
       "      <td>15.066667</td>\n",
       "      <td>111834.720000</td>\n",
       "    </tr>\n",
       "    <tr>\n",
       "      <th rowspan=\"6\" valign=\"top\">Lenovo</th>\n",
       "      <th>2 in 1 Convertible</th>\n",
       "      <td>13.684783</td>\n",
       "      <td>79234.402226</td>\n",
       "    </tr>\n",
       "    <tr>\n",
       "      <th>Gaming</th>\n",
       "      <td>15.812500</td>\n",
       "      <td>70807.421700</td>\n",
       "    </tr>\n",
       "    <tr>\n",
       "      <th>Netbook</th>\n",
       "      <td>11.825000</td>\n",
       "      <td>39200.760000</td>\n",
       "    </tr>\n",
       "    <tr>\n",
       "      <th>Notebook</th>\n",
       "      <td>15.643103</td>\n",
       "      <td>42298.385710</td>\n",
       "    </tr>\n",
       "    <tr>\n",
       "      <th>Ultrabook</th>\n",
       "      <td>13.986667</td>\n",
       "      <td>96874.584000</td>\n",
       "    </tr>\n",
       "    <tr>\n",
       "      <th>Workstation</th>\n",
       "      <td>15.600000</td>\n",
       "      <td>126859.680000</td>\n",
       "    </tr>\n",
       "    <tr>\n",
       "      <th>MSI</th>\n",
       "      <th>Gaming</th>\n",
       "      <td>16.426415</td>\n",
       "      <td>91814.548891</td>\n",
       "    </tr>\n",
       "    <tr>\n",
       "      <th rowspan=\"2\" valign=\"top\">Mediacom</th>\n",
       "      <th>2 in 1 Convertible</th>\n",
       "      <td>11.600000</td>\n",
       "      <td>15930.720000</td>\n",
       "    </tr>\n",
       "    <tr>\n",
       "      <th>Notebook</th>\n",
       "      <td>13.766667</td>\n",
       "      <td>15682.080000</td>\n",
       "    </tr>\n",
       "    <tr>\n",
       "      <th>Microsoft</th>\n",
       "      <th>Ultrabook</th>\n",
       "      <td>16.833333</td>\n",
       "      <td>85903.788000</td>\n",
       "    </tr>\n",
       "    <tr>\n",
       "      <th rowspan=\"2\" valign=\"top\">Razer</th>\n",
       "      <th>Gaming</th>\n",
       "      <td>15.320000</td>\n",
       "      <td>219460.320000</td>\n",
       "    </tr>\n",
       "    <tr>\n",
       "      <th>Ultrabook</th>\n",
       "      <td>12.500000</td>\n",
       "      <td>75337.920000</td>\n",
       "    </tr>\n",
       "    <tr>\n",
       "      <th rowspan=\"4\" valign=\"top\">Samsung</th>\n",
       "      <th>2 in 1 Convertible</th>\n",
       "      <td>13.650000</td>\n",
       "      <td>65481.120000</td>\n",
       "    </tr>\n",
       "    <tr>\n",
       "      <th>Netbook</th>\n",
       "      <td>11.600000</td>\n",
       "      <td>14332.320000</td>\n",
       "    </tr>\n",
       "    <tr>\n",
       "      <th>Notebook</th>\n",
       "      <td>15.600000</td>\n",
       "      <td>90522.720000</td>\n",
       "    </tr>\n",
       "    <tr>\n",
       "      <th>Ultrabook</th>\n",
       "      <td>13.980000</td>\n",
       "      <td>88391.520000</td>\n",
       "    </tr>\n",
       "    <tr>\n",
       "      <th rowspan=\"2\" valign=\"top\">Toshiba</th>\n",
       "      <th>Notebook</th>\n",
       "      <td>14.622857</td>\n",
       "      <td>57769.220571</td>\n",
       "    </tr>\n",
       "    <tr>\n",
       "      <th>Ultrabook</th>\n",
       "      <td>13.466667</td>\n",
       "      <td>92933.640000</td>\n",
       "    </tr>\n",
       "    <tr>\n",
       "      <th>Vero</th>\n",
       "      <th>Notebook</th>\n",
       "      <td>13.825000</td>\n",
       "      <td>11584.404000</td>\n",
       "    </tr>\n",
       "    <tr>\n",
       "      <th rowspan=\"2\" valign=\"top\">Xiaomi</th>\n",
       "      <th>Notebook</th>\n",
       "      <td>15.600000</td>\n",
       "      <td>69236.028000</td>\n",
       "    </tr>\n",
       "    <tr>\n",
       "      <th>Ultrabook</th>\n",
       "      <td>13.300000</td>\n",
       "      <td>51545.736000</td>\n",
       "    </tr>\n",
       "  </tbody>\n",
       "</table>\n",
       "</div>"
      ],
      "text/plain": [
       "                                 Inches          Price\n",
       "Company   TypeName                                    \n",
       "Acer      2 in 1 Convertible  12.750000   37229.466600\n",
       "          Gaming              16.237500   78221.700000\n",
       "          Netbook             11.600000   16303.680000\n",
       "          Notebook            15.465385   28778.645538\n",
       "          Ultrabook           13.825000   47445.840000\n",
       "Apple     Ultrabook           13.247619   83340.499886\n",
       "Asus      2 in 1 Convertible  13.623077   52021.813292\n",
       "          Gaming              16.722642   91762.525494\n",
       "          Netbook             11.600000   15502.704000\n",
       "          Notebook            15.732836   33412.015236\n",
       "          Ultrabook           14.080000   68743.987200\n",
       "Chuwi     Notebook            14.500000   16745.726400\n",
       "Dell      2 in 1 Convertible  14.867857   60465.397886\n",
       "          Gaming              16.402500  102211.979040\n",
       "          Netbook             11.600000   27678.960000\n",
       "          Notebook            15.544025   45888.995049\n",
       "          Ultrabook           13.465957   79046.967523\n",
       "          Workstation         15.770000  117231.238080\n",
       "Fujitsu   Notebook            15.600000   38574.720000\n",
       "Google    Ultrabook           12.300000   89386.080000\n",
       "HP        2 in 1 Convertible  13.183333   80601.984000\n",
       "          Gaming              16.875000   75875.160000\n",
       "          Netbook             12.100000   53635.200000\n",
       "          Notebook            15.279888   43791.787468\n",
       "          Ultrabook           13.723529   82966.456376\n",
       "          Workstation         16.207143  122527.064571\n",
       "Huawei    Ultrabook           13.000000   75870.720000\n",
       "LG        Ultrabook           15.066667  111834.720000\n",
       "Lenovo    2 in 1 Convertible  13.684783   79234.402226\n",
       "          Gaming              15.812500   70807.421700\n",
       "          Netbook             11.825000   39200.760000\n",
       "          Notebook            15.643103   42298.385710\n",
       "          Ultrabook           13.986667   96874.584000\n",
       "          Workstation         15.600000  126859.680000\n",
       "MSI       Gaming              16.426415   91814.548891\n",
       "Mediacom  2 in 1 Convertible  11.600000   15930.720000\n",
       "          Notebook            13.766667   15682.080000\n",
       "Microsoft Ultrabook           16.833333   85903.788000\n",
       "Razer     Gaming              15.320000  219460.320000\n",
       "          Ultrabook           12.500000   75337.920000\n",
       "Samsung   2 in 1 Convertible  13.650000   65481.120000\n",
       "          Netbook             11.600000   14332.320000\n",
       "          Notebook            15.600000   90522.720000\n",
       "          Ultrabook           13.980000   88391.520000\n",
       "Toshiba   Notebook            14.622857   57769.220571\n",
       "          Ultrabook           13.466667   92933.640000\n",
       "Vero      Notebook            13.825000   11584.404000\n",
       "Xiaomi    Notebook            15.600000   69236.028000\n",
       "          Ultrabook           13.300000   51545.736000"
      ]
     },
     "execution_count": 17,
     "metadata": {},
     "output_type": "execute_result"
    }
   ],
   "source": [
    "#grouped together with company and typename\n",
    "x = df.groupby(['Company', 'TypeName']).mean('Price').reset_index()\n",
    "x.set_index(['Company', 'TypeName'], inplace = True)\n",
    "x.sort_values(by=['Company', 'Price'], ascending=[True, False])\n",
    "#x.drop(columns = ['Unnamed: 0.1', 'Unnamed: 0', 'Inches'], inplace = True)\n",
    "x"
   ]
  },
  {
   "cell_type": "code",
   "execution_count": 18,
   "id": "c769510f-367a-444e-b934-86f69df00e61",
   "metadata": {
    "tags": []
   },
   "outputs": [
    {
     "data": {
      "text/plain": [
       "TypeName\n",
       "Notebook              710\n",
       "Gaming                203\n",
       "Ultrabook             191\n",
       "2 in 1 Convertible    116\n",
       "Workstation            28\n",
       "Netbook                24\n",
       "Name: count, dtype: int64"
      ]
     },
     "execution_count": 18,
     "metadata": {},
     "output_type": "execute_result"
    }
   ],
   "source": [
    "df['TypeName'].value_counts()"
   ]
  },
  {
   "cell_type": "code",
   "execution_count": 19,
   "id": "6b21f539-838c-4c29-a914-80894fb4d418",
   "metadata": {
    "tags": []
   },
   "outputs": [
    {
     "data": {
      "text/html": [
       "<div>\n",
       "<style scoped>\n",
       "    .dataframe tbody tr th:only-of-type {\n",
       "        vertical-align: middle;\n",
       "    }\n",
       "\n",
       "    .dataframe tbody tr th {\n",
       "        vertical-align: top;\n",
       "    }\n",
       "\n",
       "    .dataframe thead th {\n",
       "        text-align: right;\n",
       "    }\n",
       "</style>\n",
       "<table border=\"1\" class=\"dataframe\">\n",
       "  <thead>\n",
       "    <tr style=\"text-align: right;\">\n",
       "      <th></th>\n",
       "      <th>Company</th>\n",
       "      <th>TypeName</th>\n",
       "      <th>Inches</th>\n",
       "      <th>ScreenResolution</th>\n",
       "      <th>Cpu</th>\n",
       "      <th>Ram</th>\n",
       "      <th>Memory</th>\n",
       "      <th>Gpu</th>\n",
       "      <th>OpSys</th>\n",
       "      <th>Weight</th>\n",
       "      <th>Price</th>\n",
       "    </tr>\n",
       "  </thead>\n",
       "  <tbody>\n",
       "    <tr>\n",
       "      <th>0</th>\n",
       "      <td>Apple</td>\n",
       "      <td>Ultrabook</td>\n",
       "      <td>13.3</td>\n",
       "      <td>IPS Panel Retina Display 2560x1600</td>\n",
       "      <td>Intel Core i5 2.3GHz</td>\n",
       "      <td>8GB</td>\n",
       "      <td>128GB SSD</td>\n",
       "      <td>Intel Iris Plus Graphics 640</td>\n",
       "      <td>macOS</td>\n",
       "      <td>1.37kg</td>\n",
       "      <td>71378.6832</td>\n",
       "    </tr>\n",
       "    <tr>\n",
       "      <th>1</th>\n",
       "      <td>Apple</td>\n",
       "      <td>Ultrabook</td>\n",
       "      <td>13.3</td>\n",
       "      <td>1440x900</td>\n",
       "      <td>Intel Core i5 1.8GHz</td>\n",
       "      <td>8GB</td>\n",
       "      <td>128GB Flash Storage</td>\n",
       "      <td>Intel HD Graphics 6000</td>\n",
       "      <td>macOS</td>\n",
       "      <td>1.34kg</td>\n",
       "      <td>47895.5232</td>\n",
       "    </tr>\n",
       "    <tr>\n",
       "      <th>2</th>\n",
       "      <td>HP</td>\n",
       "      <td>Notebook</td>\n",
       "      <td>15.6</td>\n",
       "      <td>Full HD 1920x1080</td>\n",
       "      <td>Intel Core i5 7200U 2.5GHz</td>\n",
       "      <td>8GB</td>\n",
       "      <td>256GB SSD</td>\n",
       "      <td>Intel HD Graphics 620</td>\n",
       "      <td>No OS</td>\n",
       "      <td>1.86kg</td>\n",
       "      <td>30636.0000</td>\n",
       "    </tr>\n",
       "    <tr>\n",
       "      <th>3</th>\n",
       "      <td>Apple</td>\n",
       "      <td>Ultrabook</td>\n",
       "      <td>15.4</td>\n",
       "      <td>IPS Panel Retina Display 2880x1800</td>\n",
       "      <td>Intel Core i7 2.7GHz</td>\n",
       "      <td>16GB</td>\n",
       "      <td>512GB SSD</td>\n",
       "      <td>AMD Radeon Pro 455</td>\n",
       "      <td>macOS</td>\n",
       "      <td>1.83kg</td>\n",
       "      <td>135195.3360</td>\n",
       "    </tr>\n",
       "    <tr>\n",
       "      <th>4</th>\n",
       "      <td>Apple</td>\n",
       "      <td>Ultrabook</td>\n",
       "      <td>13.3</td>\n",
       "      <td>IPS Panel Retina Display 2560x1600</td>\n",
       "      <td>Intel Core i5 3.1GHz</td>\n",
       "      <td>8GB</td>\n",
       "      <td>256GB SSD</td>\n",
       "      <td>Intel Iris Plus Graphics 650</td>\n",
       "      <td>macOS</td>\n",
       "      <td>1.37kg</td>\n",
       "      <td>96095.8080</td>\n",
       "    </tr>\n",
       "  </tbody>\n",
       "</table>\n",
       "</div>"
      ],
      "text/plain": [
       "  Company   TypeName  Inches                    ScreenResolution  \\\n",
       "0   Apple  Ultrabook    13.3  IPS Panel Retina Display 2560x1600   \n",
       "1   Apple  Ultrabook    13.3                            1440x900   \n",
       "2      HP   Notebook    15.6                   Full HD 1920x1080   \n",
       "3   Apple  Ultrabook    15.4  IPS Panel Retina Display 2880x1800   \n",
       "4   Apple  Ultrabook    13.3  IPS Panel Retina Display 2560x1600   \n",
       "\n",
       "                          Cpu   Ram               Memory  \\\n",
       "0        Intel Core i5 2.3GHz   8GB            128GB SSD   \n",
       "1        Intel Core i5 1.8GHz   8GB  128GB Flash Storage   \n",
       "2  Intel Core i5 7200U 2.5GHz   8GB            256GB SSD   \n",
       "3        Intel Core i7 2.7GHz  16GB            512GB SSD   \n",
       "4        Intel Core i5 3.1GHz   8GB            256GB SSD   \n",
       "\n",
       "                            Gpu  OpSys  Weight        Price  \n",
       "0  Intel Iris Plus Graphics 640  macOS  1.37kg   71378.6832  \n",
       "1        Intel HD Graphics 6000  macOS  1.34kg   47895.5232  \n",
       "2         Intel HD Graphics 620  No OS  1.86kg   30636.0000  \n",
       "3            AMD Radeon Pro 455  macOS  1.83kg  135195.3360  \n",
       "4  Intel Iris Plus Graphics 650  macOS  1.37kg   96095.8080  "
      ]
     },
     "execution_count": 19,
     "metadata": {},
     "output_type": "execute_result"
    }
   ],
   "source": [
    "df.head()"
   ]
  },
  {
   "cell_type": "code",
   "execution_count": 20,
   "id": "1344bddb-2fce-441b-8445-a0764e254dbf",
   "metadata": {
    "tags": []
   },
   "outputs": [],
   "source": [
    "df['Ram'] = df['Ram'].astype('str')"
   ]
  },
  {
   "cell_type": "code",
   "execution_count": 21,
   "id": "cf1ecef1-835e-4ed4-a740-5eed694c785b",
   "metadata": {
    "tags": []
   },
   "outputs": [],
   "source": [
    "#Appropriate datatype conversion\n",
    "df.drop(df[df['Weight'] == '?'].index, inplace = True)\n",
    "df['Ram'] = df['Ram'].astype(str)\n",
    "df['Ram'] = df['Ram'].str.replace('GB', '').astype(int)\n",
    "df['Weight'] = df['Weight'].str.replace('kg', '').astype(float)"
   ]
  },
  {
   "cell_type": "code",
   "execution_count": 22,
   "id": "59314864-b384-4b9c-a8ad-7e25dd303727",
   "metadata": {
    "tags": []
   },
   "outputs": [
    {
     "data": {
      "text/plain": [
       "Company              object\n",
       "TypeName             object\n",
       "Inches              float64\n",
       "ScreenResolution     object\n",
       "Cpu                  object\n",
       "Ram                   int32\n",
       "Memory               object\n",
       "Gpu                  object\n",
       "OpSys                object\n",
       "Weight              float64\n",
       "Price               float64\n",
       "dtype: object"
      ]
     },
     "execution_count": 22,
     "metadata": {},
     "output_type": "execute_result"
    }
   ],
   "source": [
    "df.dtypes"
   ]
  },
  {
   "cell_type": "code",
   "execution_count": 23,
   "id": "d7c85073-3108-4be6-bcff-0df29daafd9b",
   "metadata": {
    "tags": []
   },
   "outputs": [],
   "source": [
    "#Removing outliers\n",
    "df = df[(np.abs(stats.zscore(df.select_dtypes(include=[np.number]))) < 3).all(axis=1)]"
   ]
  },
  {
   "cell_type": "code",
   "execution_count": 24,
   "id": "7beb92b0-67f5-4fd7-8937-98af54345c6b",
   "metadata": {
    "tags": []
   },
   "outputs": [
    {
     "data": {
      "text/plain": [
       "4.5"
      ]
     },
     "execution_count": 24,
     "metadata": {},
     "output_type": "execute_result"
    }
   ],
   "source": [
    "df['Weight'].mean()\n",
    "df['Weight'].min()\n",
    "df['Weight'].max()"
   ]
  },
  {
   "cell_type": "code",
   "execution_count": 25,
   "id": "e6286a48-e6fa-42b9-b698-678c7398fcb9",
   "metadata": {
    "tags": []
   },
   "outputs": [
    {
     "name": "stderr",
     "output_type": "stream",
     "text": [
      "C:\\Users\\Venkatesh\\AppData\\Local\\Temp\\ipykernel_26820\\3138323672.py:1: SettingWithCopyWarning: \n",
      "A value is trying to be set on a copy of a slice from a DataFrame\n",
      "\n",
      "See the caveats in the documentation: https://pandas.pydata.org/pandas-docs/stable/user_guide/indexing.html#returning-a-view-versus-a-copy\n",
      "  df.drop(df[df['Weight'].between(0,0.5)].index, inplace = True)\n"
     ]
    }
   ],
   "source": [
    "df.drop(df[df['Weight'].between(0,0.5)].index, inplace = True)"
   ]
  },
  {
   "cell_type": "code",
   "execution_count": 30,
   "id": "548b335d-5d35-4291-8f63-175c53d791bc",
   "metadata": {
    "tags": []
   },
   "outputs": [
    {
     "data": {
      "text/plain": [
       "2.0144172779136107"
      ]
     },
     "execution_count": 30,
     "metadata": {},
     "output_type": "execute_result"
    }
   ],
   "source": [
    "df['Weight'].mean()"
   ]
  },
  {
   "cell_type": "code",
   "execution_count": 31,
   "id": "b30cf75c-67b0-46f1-b5ae-c3e9edaa1043",
   "metadata": {
    "tags": []
   },
   "outputs": [
    {
     "data": {
      "text/plain": [
       "0.69"
      ]
     },
     "execution_count": 31,
     "metadata": {},
     "output_type": "execute_result"
    }
   ],
   "source": [
    "df['Weight'].min()"
   ]
  },
  {
   "cell_type": "code",
   "execution_count": 32,
   "id": "5c6ad772-a841-4c12-8354-1ac8f072a2c7",
   "metadata": {
    "tags": []
   },
   "outputs": [
    {
     "data": {
      "text/plain": [
       "4.5"
      ]
     },
     "execution_count": 32,
     "metadata": {},
     "output_type": "execute_result"
    }
   ],
   "source": [
    "df['Weight'].max()"
   ]
  },
  {
   "cell_type": "code",
   "execution_count": 33,
   "id": "ade2e935-4c16-4932-b2eb-6ef31de71221",
   "metadata": {
    "tags": []
   },
   "outputs": [
    {
     "name": "stderr",
     "output_type": "stream",
     "text": [
      "C:\\Users\\Venkatesh\\AppData\\Local\\Temp\\ipykernel_26820\\2626119693.py:1: SettingWithCopyWarning: \n",
      "A value is trying to be set on a copy of a slice from a DataFrame.\n",
      "Try using .loc[row_indexer,col_indexer] = value instead\n",
      "\n",
      "See the caveats in the documentation: https://pandas.pydata.org/pandas-docs/stable/user_guide/indexing.html#returning-a-view-versus-a-copy\n",
      "  df['Heaviness'] = df['Weight'].map(lambda x: 'light' if x < 2 else 'Heavy')\n"
     ]
    }
   ],
   "source": [
    "#Feature engineering based on laptop's weight\n",
    "#Categorizationa\n",
    "df['Heaviness'] = df['Weight'].map(lambda x: 'light' if x < 2 else 'Heavy') "
   ]
  },
  {
   "cell_type": "code",
   "execution_count": 34,
   "id": "ca2d3412-0632-4078-aa91-f9ab4783c883",
   "metadata": {
    "tags": []
   },
   "outputs": [
    {
     "data": {
      "text/plain": [
       "Heaviness\n",
       "Heavy    666\n",
       "light    561\n",
       "Name: count, dtype: int64"
      ]
     },
     "execution_count": 34,
     "metadata": {},
     "output_type": "execute_result"
    }
   ],
   "source": [
    "df['Heaviness'].value_counts()"
   ]
  },
  {
   "cell_type": "code",
   "execution_count": 35,
   "id": "c14ef58b-a961-4246-8354-f0baf715fe6b",
   "metadata": {
    "tags": []
   },
   "outputs": [],
   "source": [
    "df1 = df.copy()"
   ]
  },
  {
   "cell_type": "code",
   "execution_count": 36,
   "id": "a1352543-9de7-4f37-8f15-7a6bd90a7a5d",
   "metadata": {
    "tags": []
   },
   "outputs": [],
   "source": [
    "#Categorical encoding\n",
    "df1 = pd.get_dummies(df1, columns=['Company', 'TypeName', 'Cpu', 'OpSys', 'ScreenResolution', 'Memory', 'Gpu', 'Heaviness'])"
   ]
  },
  {
   "cell_type": "code",
   "execution_count": 37,
   "id": "9c5fd590-c4ca-45ed-a74f-6f79ac51e446",
   "metadata": {
    "tags": []
   },
   "outputs": [
    {
     "data": {
      "text/html": [
       "<div>\n",
       "<style scoped>\n",
       "    .dataframe tbody tr th:only-of-type {\n",
       "        vertical-align: middle;\n",
       "    }\n",
       "\n",
       "    .dataframe tbody tr th {\n",
       "        vertical-align: top;\n",
       "    }\n",
       "\n",
       "    .dataframe thead th {\n",
       "        text-align: right;\n",
       "    }\n",
       "</style>\n",
       "<table border=\"1\" class=\"dataframe\">\n",
       "  <thead>\n",
       "    <tr style=\"text-align: right;\">\n",
       "      <th></th>\n",
       "      <th>Inches</th>\n",
       "      <th>Ram</th>\n",
       "      <th>Weight</th>\n",
       "      <th>Price</th>\n",
       "      <th>Company_Acer</th>\n",
       "      <th>Company_Apple</th>\n",
       "      <th>Company_Asus</th>\n",
       "      <th>Company_Chuwi</th>\n",
       "      <th>Company_Dell</th>\n",
       "      <th>Company_Fujitsu</th>\n",
       "      <th>...</th>\n",
       "      <th>Gpu_Nvidia Quadro M1200</th>\n",
       "      <th>Gpu_Nvidia Quadro M2000M</th>\n",
       "      <th>Gpu_Nvidia Quadro M2200</th>\n",
       "      <th>Gpu_Nvidia Quadro M2200M</th>\n",
       "      <th>Gpu_Nvidia Quadro M500M</th>\n",
       "      <th>Gpu_Nvidia Quadro M520M</th>\n",
       "      <th>Gpu_Nvidia Quadro M620</th>\n",
       "      <th>Gpu_Nvidia Quadro M620M</th>\n",
       "      <th>Heaviness_Heavy</th>\n",
       "      <th>Heaviness_light</th>\n",
       "    </tr>\n",
       "  </thead>\n",
       "  <tbody>\n",
       "    <tr>\n",
       "      <th>0</th>\n",
       "      <td>13.3</td>\n",
       "      <td>8</td>\n",
       "      <td>1.37</td>\n",
       "      <td>71378.6832</td>\n",
       "      <td>False</td>\n",
       "      <td>True</td>\n",
       "      <td>False</td>\n",
       "      <td>False</td>\n",
       "      <td>False</td>\n",
       "      <td>False</td>\n",
       "      <td>...</td>\n",
       "      <td>False</td>\n",
       "      <td>False</td>\n",
       "      <td>False</td>\n",
       "      <td>False</td>\n",
       "      <td>False</td>\n",
       "      <td>False</td>\n",
       "      <td>False</td>\n",
       "      <td>False</td>\n",
       "      <td>False</td>\n",
       "      <td>True</td>\n",
       "    </tr>\n",
       "    <tr>\n",
       "      <th>1</th>\n",
       "      <td>13.3</td>\n",
       "      <td>8</td>\n",
       "      <td>1.34</td>\n",
       "      <td>47895.5232</td>\n",
       "      <td>False</td>\n",
       "      <td>True</td>\n",
       "      <td>False</td>\n",
       "      <td>False</td>\n",
       "      <td>False</td>\n",
       "      <td>False</td>\n",
       "      <td>...</td>\n",
       "      <td>False</td>\n",
       "      <td>False</td>\n",
       "      <td>False</td>\n",
       "      <td>False</td>\n",
       "      <td>False</td>\n",
       "      <td>False</td>\n",
       "      <td>False</td>\n",
       "      <td>False</td>\n",
       "      <td>False</td>\n",
       "      <td>True</td>\n",
       "    </tr>\n",
       "    <tr>\n",
       "      <th>2</th>\n",
       "      <td>15.6</td>\n",
       "      <td>8</td>\n",
       "      <td>1.86</td>\n",
       "      <td>30636.0000</td>\n",
       "      <td>False</td>\n",
       "      <td>False</td>\n",
       "      <td>False</td>\n",
       "      <td>False</td>\n",
       "      <td>False</td>\n",
       "      <td>False</td>\n",
       "      <td>...</td>\n",
       "      <td>False</td>\n",
       "      <td>False</td>\n",
       "      <td>False</td>\n",
       "      <td>False</td>\n",
       "      <td>False</td>\n",
       "      <td>False</td>\n",
       "      <td>False</td>\n",
       "      <td>False</td>\n",
       "      <td>False</td>\n",
       "      <td>True</td>\n",
       "    </tr>\n",
       "    <tr>\n",
       "      <th>3</th>\n",
       "      <td>15.4</td>\n",
       "      <td>16</td>\n",
       "      <td>1.83</td>\n",
       "      <td>135195.3360</td>\n",
       "      <td>False</td>\n",
       "      <td>True</td>\n",
       "      <td>False</td>\n",
       "      <td>False</td>\n",
       "      <td>False</td>\n",
       "      <td>False</td>\n",
       "      <td>...</td>\n",
       "      <td>False</td>\n",
       "      <td>False</td>\n",
       "      <td>False</td>\n",
       "      <td>False</td>\n",
       "      <td>False</td>\n",
       "      <td>False</td>\n",
       "      <td>False</td>\n",
       "      <td>False</td>\n",
       "      <td>False</td>\n",
       "      <td>True</td>\n",
       "    </tr>\n",
       "    <tr>\n",
       "      <th>4</th>\n",
       "      <td>13.3</td>\n",
       "      <td>8</td>\n",
       "      <td>1.37</td>\n",
       "      <td>96095.8080</td>\n",
       "      <td>False</td>\n",
       "      <td>True</td>\n",
       "      <td>False</td>\n",
       "      <td>False</td>\n",
       "      <td>False</td>\n",
       "      <td>False</td>\n",
       "      <td>...</td>\n",
       "      <td>False</td>\n",
       "      <td>False</td>\n",
       "      <td>False</td>\n",
       "      <td>False</td>\n",
       "      <td>False</td>\n",
       "      <td>False</td>\n",
       "      <td>False</td>\n",
       "      <td>False</td>\n",
       "      <td>False</td>\n",
       "      <td>True</td>\n",
       "    </tr>\n",
       "  </tbody>\n",
       "</table>\n",
       "<p>5 rows × 335 columns</p>\n",
       "</div>"
      ],
      "text/plain": [
       "   Inches  Ram  Weight        Price  Company_Acer  Company_Apple  \\\n",
       "0    13.3    8    1.37   71378.6832         False           True   \n",
       "1    13.3    8    1.34   47895.5232         False           True   \n",
       "2    15.6    8    1.86   30636.0000         False          False   \n",
       "3    15.4   16    1.83  135195.3360         False           True   \n",
       "4    13.3    8    1.37   96095.8080         False           True   \n",
       "\n",
       "   Company_Asus  Company_Chuwi  Company_Dell  Company_Fujitsu  ...  \\\n",
       "0         False          False         False            False  ...   \n",
       "1         False          False         False            False  ...   \n",
       "2         False          False         False            False  ...   \n",
       "3         False          False         False            False  ...   \n",
       "4         False          False         False            False  ...   \n",
       "\n",
       "   Gpu_Nvidia Quadro M1200  Gpu_Nvidia Quadro M2000M  Gpu_Nvidia Quadro M2200  \\\n",
       "0                    False                     False                    False   \n",
       "1                    False                     False                    False   \n",
       "2                    False                     False                    False   \n",
       "3                    False                     False                    False   \n",
       "4                    False                     False                    False   \n",
       "\n",
       "   Gpu_Nvidia Quadro M2200M  Gpu_Nvidia Quadro M500M  Gpu_Nvidia Quadro M520M  \\\n",
       "0                     False                    False                    False   \n",
       "1                     False                    False                    False   \n",
       "2                     False                    False                    False   \n",
       "3                     False                    False                    False   \n",
       "4                     False                    False                    False   \n",
       "\n",
       "   Gpu_Nvidia Quadro M620  Gpu_Nvidia Quadro M620M  Heaviness_Heavy  \\\n",
       "0                   False                    False            False   \n",
       "1                   False                    False            False   \n",
       "2                   False                    False            False   \n",
       "3                   False                    False            False   \n",
       "4                   False                    False            False   \n",
       "\n",
       "   Heaviness_light  \n",
       "0             True  \n",
       "1             True  \n",
       "2             True  \n",
       "3             True  \n",
       "4             True  \n",
       "\n",
       "[5 rows x 335 columns]"
      ]
     },
     "execution_count": 37,
     "metadata": {},
     "output_type": "execute_result"
    }
   ],
   "source": [
    "df1.head()"
   ]
  },
  {
   "cell_type": "code",
   "execution_count": 38,
   "id": "3179f07c-1810-49f6-bf02-8ee37a6d89d9",
   "metadata": {
    "tags": []
   },
   "outputs": [
    {
     "data": {
      "text/plain": [
       "Inches                     0\n",
       "Ram                        0\n",
       "Weight                     0\n",
       "Price                      0\n",
       "Company_Acer               0\n",
       "                          ..\n",
       "Gpu_Nvidia Quadro M520M    0\n",
       "Gpu_Nvidia Quadro M620     0\n",
       "Gpu_Nvidia Quadro M620M    0\n",
       "Heaviness_Heavy            0\n",
       "Heaviness_light            0\n",
       "Length: 335, dtype: int64"
      ]
     },
     "execution_count": 38,
     "metadata": {},
     "output_type": "execute_result"
    }
   ],
   "source": [
    "df1.isnull().sum()"
   ]
  },
  {
   "cell_type": "code",
   "execution_count": 39,
   "id": "a80b22e5-8cd4-4037-be88-0e45da98e00b",
   "metadata": {
    "tags": []
   },
   "outputs": [],
   "source": [
    "#Train Test Split\n",
    "X = df1.drop('Price', axis=1)\n",
    "y = df['Price']\n",
    "X_train, X_test, y_train, y_test = train_test_split(X, y, test_size=0.2, random_state=42)"
   ]
  },
  {
   "cell_type": "code",
   "execution_count": 40,
   "id": "6000b1bb-8c54-4f71-9371-dc83844b83c1",
   "metadata": {
    "tags": []
   },
   "outputs": [
    {
     "name": "stdout",
     "output_type": "stream",
     "text": [
      "Linear Regression MAE: 83110755975711.39\n",
      "R-squared: -2.092858268019326e+20\n"
     ]
    }
   ],
   "source": [
    "# Linear Regression\n",
    "lr = LinearRegression()\n",
    "lr.fit(X_train, y_train)\n",
    "y_pred_lr = lr.predict(X_test)\n",
    "print(f'Linear Regression MAE: {mean_absolute_error(y_test, y_pred_lr)}')\n",
    "print(f\"R-squared: {r2_score(y_test, y_pred_lr)}\")\n"
   ]
  },
  {
   "cell_type": "code",
   "execution_count": 41,
   "id": "0c071acc-2c4b-4917-93e7-f88a4f2df30a",
   "metadata": {
    "tags": []
   },
   "outputs": [
    {
     "name": "stdout",
     "output_type": "stream",
     "text": [
      "Random Forest MAE: 9987.92544094077\n",
      "R-squared: 0.8029689207523909\n"
     ]
    }
   ],
   "source": [
    "# Random Forest\n",
    "rf = RandomForestRegressor()\n",
    "rf.fit(X_train, y_train)\n",
    "y_pred_rf = rf.predict(X_test)\n",
    "print(f'Random Forest MAE: {mean_absolute_error(y_test, y_pred_rf)}')\n",
    "print(f\"R-squared: {r2_score(y_test, y_pred_rf)}\")"
   ]
  },
  {
   "cell_type": "code",
   "execution_count": 42,
   "id": "a09d4a27-7bfd-48e1-b834-77ae667ac17b",
   "metadata": {
    "tags": []
   },
   "outputs": [
    {
     "name": "stdout",
     "output_type": "stream",
     "text": [
      "Gradient Boosting MAE: 11238.889654695433\n",
      "R-squared: 0.788877030547254\n"
     ]
    }
   ],
   "source": [
    "# Gradient Boosting\n",
    "gb = GradientBoostingRegressor()\n",
    "gb.fit(X_train, y_train)\n",
    "y_pred_gb = gb.predict(X_test)\n",
    "print(f'Gradient Boosting MAE: {mean_absolute_error(y_test, y_pred_gb)}')\n",
    "print(f\"R-squared: {r2_score(y_test, y_pred_gb)}\")"
   ]
  },
  {
   "cell_type": "code",
   "execution_count": 43,
   "id": "de7f8600-8d7a-4c2e-ba98-d904eff271a6",
   "metadata": {},
   "outputs": [
    {
     "name": "stdout",
     "output_type": "stream",
     "text": [
      "Optimized Random Forest MAE: 9914.253411155614\n",
      "Optimized Random Forest R-squared: 0.8058201791481092\n"
     ]
    }
   ],
   "source": [
    "#Cross validation\n",
    "from sklearn.model_selection import GridSearchCV\n",
    "\n",
    "# Example for RandomForest\n",
    "param_grid = {\n",
    "    'n_estimators': [100, 200, 300],\n",
    "    'max_depth': [10, 20, 30]\n",
    "}\n",
    "\n",
    "grid_search = GridSearchCV(estimator=rf, param_grid=param_grid, cv=3, scoring='neg_mean_absolute_error')\n",
    "grid_search.fit(X_train, y_train)\n",
    "\n",
    "best_rf = grid_search.best_estimator_\n",
    "y_pred_best_rf = best_rf.predict(X_test)\n",
    "print(f'Optimized Random Forest MAE: {mean_absolute_error(y_test, y_pred_best_rf)}')\n",
    "print(f\"Optimized Random Forest R-squared: {r2_score(y_test, y_pred_best_rf)}\")\n"
   ]
  },
  {
   "cell_type": "code",
   "execution_count": 44,
   "id": "fa02a8dc-f2a5-40a4-8a7c-687faa15e1b5",
   "metadata": {},
   "outputs": [
    {
     "data": {
      "text/html": [
       "<div>\n",
       "<style scoped>\n",
       "    .dataframe tbody tr th:only-of-type {\n",
       "        vertical-align: middle;\n",
       "    }\n",
       "\n",
       "    .dataframe tbody tr th {\n",
       "        vertical-align: top;\n",
       "    }\n",
       "\n",
       "    .dataframe thead th {\n",
       "        text-align: right;\n",
       "    }\n",
       "</style>\n",
       "<table border=\"1\" class=\"dataframe\">\n",
       "  <thead>\n",
       "    <tr style=\"text-align: right;\">\n",
       "      <th></th>\n",
       "      <th>feature</th>\n",
       "      <th>importance</th>\n",
       "    </tr>\n",
       "  </thead>\n",
       "  <tbody>\n",
       "    <tr>\n",
       "      <th>1</th>\n",
       "      <td>Ram</td>\n",
       "      <td>0.508089</td>\n",
       "    </tr>\n",
       "    <tr>\n",
       "      <th>2</th>\n",
       "      <td>Weight</td>\n",
       "      <td>0.085295</td>\n",
       "    </tr>\n",
       "    <tr>\n",
       "      <th>25</th>\n",
       "      <td>TypeName_Notebook</td>\n",
       "      <td>0.083975</td>\n",
       "    </tr>\n",
       "    <tr>\n",
       "      <th>306</th>\n",
       "      <td>Gpu_Nvidia GeForce GTX 1070</td>\n",
       "      <td>0.024121</td>\n",
       "    </tr>\n",
       "    <tr>\n",
       "      <th>0</th>\n",
       "      <td>Inches</td>\n",
       "      <td>0.021342</td>\n",
       "    </tr>\n",
       "    <tr>\n",
       "      <th>...</th>\n",
       "      <td>...</td>\n",
       "      <td>...</td>\n",
       "    </tr>\n",
       "    <tr>\n",
       "      <th>102</th>\n",
       "      <td>Cpu_Intel Core i5 7200U 2.7GHz</td>\n",
       "      <td>0.000000</td>\n",
       "    </tr>\n",
       "    <tr>\n",
       "      <th>8</th>\n",
       "      <td>Company_Fujitsu</td>\n",
       "      <td>0.000000</td>\n",
       "    </tr>\n",
       "    <tr>\n",
       "      <th>246</th>\n",
       "      <td>Gpu_AMD Radeon R5 520</td>\n",
       "      <td>0.000000</td>\n",
       "    </tr>\n",
       "    <tr>\n",
       "      <th>101</th>\n",
       "      <td>Cpu_Intel Core i5 7200U 2.70GHz</td>\n",
       "      <td>0.000000</td>\n",
       "    </tr>\n",
       "    <tr>\n",
       "      <th>303</th>\n",
       "      <td>Gpu_Nvidia GeForce GTX 1050M</td>\n",
       "      <td>0.000000</td>\n",
       "    </tr>\n",
       "  </tbody>\n",
       "</table>\n",
       "<p>334 rows × 2 columns</p>\n",
       "</div>"
      ],
      "text/plain": [
       "                             feature  importance\n",
       "1                                Ram    0.508089\n",
       "2                             Weight    0.085295\n",
       "25                 TypeName_Notebook    0.083975\n",
       "306      Gpu_Nvidia GeForce GTX 1070    0.024121\n",
       "0                             Inches    0.021342\n",
       "..                               ...         ...\n",
       "102   Cpu_Intel Core i5 7200U 2.7GHz    0.000000\n",
       "8                    Company_Fujitsu    0.000000\n",
       "246            Gpu_AMD Radeon R5 520    0.000000\n",
       "101  Cpu_Intel Core i5 7200U 2.70GHz    0.000000\n",
       "303     Gpu_Nvidia GeForce GTX 1050M    0.000000\n",
       "\n",
       "[334 rows x 2 columns]"
      ]
     },
     "execution_count": 44,
     "metadata": {},
     "output_type": "execute_result"
    }
   ],
   "source": [
    "#Feature importances\n",
    "importances = best_rf.feature_importances_\n",
    "feature_names = X_train.columns\n",
    "feature_importances = pd.DataFrame({'feature': feature_names, 'importance': importances}).sort_values(by='importance', ascending=False)\n",
    "#print(feature_importances)\n",
    "feature_importances"
   ]
  },
  {
   "cell_type": "code",
   "execution_count": 45,
   "id": "4adb950a-bef6-4a42-9838-fac517c74f33",
   "metadata": {
    "tags": []
   },
   "outputs": [
    {
     "data": {
      "image/png": "[encoded data removed]",
      "text/plain": [
       "<Figure size 1000x600 with 1 Axes>"
      ]
     },
     "metadata": {},
     "output_type": "display_data"
    }
   ],
   "source": [
    "\n",
    "\n",
    "# Plot feature importances\n",
    "important_features = feature_importances[feature_importances['importance'].between(0.02,0.6)]\n",
    "important_features_sorted = important_features.sort_values(by='importance', ascending=False)\n",
    "plt.figure(figsize=(10, 6))\n",
    "plt.barh(important_features_sorted['feature'], important_features_sorted['importance'])\n",
    "plt.xlabel('Importance')\n",
    "plt.ylabel('Feature')\n",
    "plt.title('Feature Importances')\n",
    "plt.show()\n"
   ]
  },
  {
   "cell_type": "code",
   "execution_count": 48,
   "id": "25bdd9f7-80b3-4cbf-8349-8a690c20de2d",
   "metadata": {},
   "outputs": [],
   "source": [
    "#Loading the above developed rf model into the variable 'model'\n",
    "model = joblib.load('best_model.pkl')"
   ]
  },
  {
   "cell_type": "markdown",
   "id": "00c6a6f8-bc38-4e39-8625-d9d5003cf7de",
   "metadata": {},
   "source": [
    "Questions to Explore:\n",
    "1. Which features have the most significant impact on laptop prices?\n",
    " As seen in the above graph, Ram has the most significant impact on laptop prices followed by weight."
   ]
  },
  {
   "cell_type": "markdown",
   "id": "5cce524a-516e-47a6-b0e4-bebc7affb71b",
   "metadata": {},
   "source": [
    "2.Can the model accurately predict the prices of laptops from lesser-known brands?"
   ]
  },
  {
   "cell_type": "code",
   "execution_count": 49,
   "id": "6e511bda-4822-4dfd-a78d-a726845520d4",
   "metadata": {},
   "outputs": [
    {
     "data": {
      "text/plain": [
       "Company\n",
       "Lenovo       275\n",
       "Dell         273\n",
       "HP           264\n",
       "Asus         150\n",
       "Acer         101\n",
       "MSI           52\n",
       "Toshiba       45\n",
       "Apple         21\n",
       "Samsung        9\n",
       "Mediacom       7\n",
       "Microsoft      5\n",
       "Xiaomi         4\n",
       "Vero           4\n",
       "Razer          4\n",
       "Chuwi          3\n",
       "Google         3\n",
       "LG             3\n",
       "Huawei         2\n",
       "Fujitsu        2\n",
       "Name: count, dtype: int64"
      ]
     },
     "execution_count": 49,
     "metadata": {},
     "output_type": "execute_result"
    }
   ],
   "source": [
    "df['Company'].value_counts()"
   ]
  },
  {
   "cell_type": "code",
   "execution_count": 68,
   "id": "08329ebc-8b05-43a8-a622-adc3e0cd4183",
   "metadata": {},
   "outputs": [],
   "source": [
    "Lesser_Known_Brands = ['Chuwi', 'Google', 'LG', 'Huawei', 'Fujitsu']\n",
    "subset_x = df[df['Company'].isin(Lesser_Known_Brands)]\n",
    "subset_x = pd.get_dummies(subset_x, columns = ['Company', 'TypeName', 'Cpu', 'OpSys', 'ScreenResolution', 'Memory', 'Gpu', 'Heaviness'])\n",
    "subset_x.drop('Price', axis = 1, inplace = True)\n",
    "filtered_df = df[df['Company'].isin(Lesser_Known_Brands)]\n",
    "subset_y = filtered_df['Price']\n",
    "subset_X_train, subset_X_test, subset_y_train, subset_y_test = train_test_split(subset_x, subset_y, test_size=0.2, random_state=42)\n"
   ]
  },
  {
   "cell_type": "code",
   "execution_count": 73,
   "id": "f2742ace-bef9-4b28-b7d2-7affd6697311",
   "metadata": {
    "tags": []
   },
   "outputs": [
    {
     "name": "stdout",
     "output_type": "stream",
     "text": [
      "Accuracy on lesser-known brands: 0.9527327295106655\n"
     ]
    }
   ],
   "source": [
    "rf.fit(subset_X_train, subset_y_train)\n",
    "predictions = rf.predict(subset_X_test)\n",
    "accuracy = r2_score(subset_y_test, predictions)\n",
    "print(f'Accuracy on lesser-known brands: {accuracy}')"
   ]
  },
  {
   "cell_type": "markdown",
   "id": "28f86474-e042-4c9a-9c84-d97d9bd80833",
   "metadata": {},
   "source": [
    "Answer: The model works great on lesser known brands too."
   ]
  },
  {
   "cell_type": "markdown",
   "id": "4707b12d-16fd-416b-9dd9-1e5f29a6f5ff",
   "metadata": {},
   "source": [
    "3.Does the brand of the laptop significantly influence its price?"
   ]
  },
  {
   "cell_type": "code",
   "execution_count": null,
   "id": "693e7064-9b26-4047-acd8-8629217cef44",
   "metadata": {
    "tags": []
   },
   "outputs": [],
   "source": [
    "feature_importances\n",
    "brand_importance = feature_importances[feature_importances['feature'].str.startswith('Company')]\n",
    "print(f\"Importance of 'Company' Lenovo : {brand_importance['importance'].values[0]}\") \n",
    "brand_importance"
   ]
  },
  {
   "cell_type": "markdown",
   "id": "fbd56c12-80f5-4379-807a-91834061261b",
   "metadata": {
    "tags": []
   },
   "source": [
    "Answer: No, the brand of a laptop does not significantly contributr to the price."
   ]
  },
  {
   "cell_type": "markdown",
   "id": "44115650-e6b5-4794-b230-5b392a578c95",
   "metadata": {},
   "source": [
    "4.How well does the model perform on laptops with high-end specifications compared to budget laptops?"
   ]
  },
  {
   "cell_type": "code",
   "execution_count": 98,
   "id": "b7b746c7-eede-4a2a-800c-5652837c96c1",
   "metadata": {
    "tags": []
   },
   "outputs": [
    {
     "data": {
      "text/plain": [
       "Ram\n",
       "8     591\n",
       "4     362\n",
       "16    187\n",
       "6      38\n",
       "12     24\n",
       "2      22\n",
       "24      2\n",
       "1       1\n",
       "Name: count, dtype: int64"
      ]
     },
     "execution_count": 98,
     "metadata": {},
     "output_type": "execute_result"
    }
   ],
   "source": [
    "df['Ram'].value_counts()"
   ]
  },
  {
   "cell_type": "code",
   "execution_count": 99,
   "id": "4d811449-d293-4fb3-a921-aee0204be731",
   "metadata": {
    "tags": []
   },
   "outputs": [
    {
     "name": "stdout",
     "output_type": "stream",
     "text": [
      "Accuracy on high-end laptops: 0.7012332983130504\n",
      "Accuracy on budget laptops: 0.7333073828944081\n"
     ]
    }
   ],
   "source": [
    "high_end = X_test[X_test['Ram'] >= 8]  # Example criteria for high-end laptops\n",
    "budget = X_test[X_test['Ram'] <= 6]  # Example criteria for budget laptops\n",
    "\n",
    "high_end_y = y_test[X_test['Ram'] >= 8]\n",
    "budget_y = y_test[X_test['Ram'] <= 6]\n",
    "\n",
    "high_end_predictions = model.predict(high_end)\n",
    "budget_predictions = model.predict(budget)\n",
    "\n",
    "high_end_accuracy = r2_score(high_end_y, high_end_predictions)\n",
    "budget_accuracy = r2_score(budget_y, budget_predictions)\n",
    "\n",
    "print(f'Accuracy on high-end laptops: {high_end_accuracy}')\n",
    "print(f'Accuracy on budget laptops: {budget_accuracy}')\n"
   ]
  },
  {
   "cell_type": "markdown",
   "id": "fedbee25-9caf-4cce-a9fc-af385f2df12c",
   "metadata": {},
   "source": [
    "Answer: The mopdel performs good on both high end and low end laptops. But, the accuracy is somewhat lower when compared to the actual accuracy."
   ]
  },
  {
   "cell_type": "markdown",
   "id": "46c668bd-7e48-4660-92fc-94fb12043ade",
   "metadata": {},
   "source": [
    "5. What are the limitations and challenges in predicting laptop prices accurately?"
   ]
  },
  {
   "cell_type": "markdown",
   "id": "69706692-ecb9-43b3-986e-a1bb87f43865",
   "metadata": {},
   "source": [
    "Feature Engineering: Accurately capturing all relevant features and interactions.\n",
    "Market Dynamics: Rapid changes in technology and prices.\n",
    "Data Quality: Incomplete or biased data.\n",
    "Brand Perception: Subjective factors influencing price.\n",
    "New Releases: Predicting prices for laptops with features not present in the training data."
   ]
  },
  {
   "cell_type": "code",
   "execution_count": null,
   "id": "b6a74057-0ebd-4f56-861c-8c330f1d3ad6",
   "metadata": {},
   "outputs": [],
   "source": []
  },
  {
   "cell_type": "code",
   "execution_count": null,
   "id": "cdff0d3f-7548-411b-8e88-22f5bf9dd718",
   "metadata": {},
   "outputs": [],
   "source": []
  }
 ],
 "metadata": {
  "kernelspec": {
   "display_name": "Python 3 (ipykernel)",
   "language": "python",
   "name": "python3"
  },
  "language_info": {
   "codemirror_mode": {
    "name": "ipython",
    "version": 3
   },
   "file_extension": ".py",
   "mimetype": "text/x-python",
   "name": "python",
   "nbconvert_exporter": "python",
   "pygments_lexer": "ipython3",
   "version": "3.11.5"
  }
 },
 "nbformat": 4,
 "nbformat_minor": 5
}
